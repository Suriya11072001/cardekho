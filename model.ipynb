{
 "cells": [
  {
   "cell_type": "code",
   "execution_count": 5,
   "id": "412da757",
   "metadata": {},
   "outputs": [],
   "source": [
    "import pandas as pd\n",
    "import numpy as np\n",
    "df=pd.read_csv('encoded_car_data.csv')"
   ]
  },
  {
   "cell_type": "code",
   "execution_count": 6,
   "id": "3efeb15e",
   "metadata": {},
   "outputs": [],
   "source": [
    "from sklearn.linear_model import LinearRegression\n",
    "feature=df.drop(['Car_Price'],axis=1)\n",
    "target=df['Car_Price']"
   ]
  },
  {
   "cell_type": "code",
   "execution_count": 7,
   "id": "1f17f6de",
   "metadata": {},
   "outputs": [],
   "source": [
    "from sklearn.model_selection import train_test_split\n",
    "x_train,x_test,y_train,y_test=train_test_split(feature,target,test_size=0.2,random_state=39)"
   ]
  },
  {
   "cell_type": "code",
   "execution_count": 8,
   "id": "ce9314ae",
   "metadata": {},
   "outputs": [],
   "source": [
    "from sklearn.preprocessing import StandardScaler\n",
    "\n",
    "sc = StandardScaler()\n",
    "x_train = sc.fit_transform(x_train)\n",
    "x_test = sc.transform(x_test)"
   ]
  },
  {
   "cell_type": "code",
   "execution_count": 12,
   "id": "18e2e13d",
   "metadata": {},
   "outputs": [
    {
     "name": "stdout",
     "output_type": "stream",
     "text": [
      "📊 Model Evaluation Metrics:\n",
      "MAE_test  : 335238.2857\n",
      "MSE_test : 454121176505.1572\n",
      "R²_test    : 0.7725\n",
      "MAE_train  : 356066442427.5655\n",
      "MSE_train : 356066442427.5655\n",
      "R²_train    : 0.7546\n"
     ]
    }
   ],
   "source": [
    "#linear regression model\n",
    "from sklearn.linear_model import LinearRegression\n",
    "from sklearn.metrics import mean_squared_error,mean_absolute_error,r2_score\n",
    "x_train,x_test,y_train,y_test=train_test_split(feature,target,test_size=0.2,random_state=39)\n",
    "linear_model = LinearRegression()\n",
    "linear_model.fit(x_train,y_train)\n",
    "y_pred_test = linear_model.predict(x_test)\n",
    "y_pred_train=linear_model.predict(x_train)\n",
    "\n",
    "\n",
    "# 6. Evaluate\n",
    "mae_test = mean_absolute_error(y_test, y_pred_test)\n",
    "mae_train=mean_squared_error(y_train,y_pred_train)\n",
    "mse_test=mean_squared_error(y_test, y_pred_test)\n",
    "mse_train=mean_squared_error(y_train,y_pred_train)\n",
    "r2_test=r2_score(y_test, y_pred_test)\n",
    "r2_train=r2_score(y_train,y_pred_train)\n",
    "\n",
    "print(\"📊 Model Evaluation Metrics:\")\n",
    "print(f\"MAE_test  : {mae_test:.4f}\")\n",
    "print(f\"MSE_test : {mse_test:.4f}\")\n",
    "print(f\"R²_test    : {r2_test:.4f}\")\n",
    "\n",
    "print(f\"MAE_train  : {mae_train:.4f}\")\n",
    "print(f\"MSE_train : {mse_train:.4f}\")\n",
    "print(f\"R²_train    : {r2_train:.4f}\")\n",
    "\n"
   ]
  },
  {
   "cell_type": "code",
   "execution_count": 1,
   "id": "0aff10ad",
   "metadata": {},
   "outputs": [
    {
     "name": "stdout",
     "output_type": "stream",
     "text": [
      "📊 Model Comparison:\n",
      "            Model       MAE      RMSE  R² Score\n",
      "    Decision Tree   2018.50  20993.83    0.9997\n",
      "    Random Forest   9102.35  30978.12    0.9994\n",
      "Gradient Boosting 140186.84 244131.00    0.9596\n",
      "Linear Regression 310371.07 555407.76    0.7911\n"
     ]
    }
   ],
   "source": [
    "import pandas as pd\n",
    "import numpy as np\n",
    "from sklearn.model_selection import train_test_split\n",
    "from sklearn.linear_model import LinearRegression\n",
    "from sklearn.tree import DecisionTreeRegressor\n",
    "from sklearn.ensemble import RandomForestRegressor, GradientBoostingRegressor\n",
    "from sklearn.metrics import mean_absolute_error, mean_squared_error, r2_score\n",
    "\n",
    "# Load encoded dataset\n",
    "df = pd.read_csv('encoded_car_data.csv')\n",
    "\n",
    "# Features & Target\n",
    "X = df.drop('Car_Price', axis=1)\n",
    "y = df['Car_Price']\n",
    "\n",
    "# Train-Test Split\n",
    "X_train, X_test, y_train, y_test = train_test_split(X, y, test_size=0.2, random_state=42)\n",
    "\n",
    "# Define models\n",
    "models = {\n",
    "    'Linear Regression': LinearRegression(),\n",
    "    'Decision Tree': DecisionTreeRegressor(random_state=42),\n",
    "    'Random Forest': RandomForestRegressor(n_estimators=100, random_state=42),\n",
    "    'Gradient Boosting': GradientBoostingRegressor(n_estimators=100, learning_rate=0.1, random_state=42)\n",
    "}\n",
    "\n",
    "# Train & evaluate each model\n",
    "results = []\n",
    "\n",
    "for name, model in models.items():\n",
    "    model.fit(X_train, y_train)\n",
    "    y_pred = model.predict(X_test)\n",
    "\n",
    "    mae = mean_absolute_error(y_test, y_pred)\n",
    "    rmse = np.sqrt(mean_squared_error(y_test, y_pred))\n",
    "    r2 = r2_score(y_test, y_pred)\n",
    "\n",
    "    results.append({\n",
    "        'Model': name,\n",
    "        'MAE': round(mae, 2),\n",
    "        'RMSE': round(rmse, 2),\n",
    "        'R² Score': round(r2, 4)\n",
    "    })\n",
    "\n",
    "# Display results\n",
    "results_df = pd.DataFrame(results).sort_values(by='R² Score', ascending=False)\n",
    "print(\"📊 Model Comparison:\")\n",
    "print(results_df.to_string(index=False))\n"
   ]
  },
  {
   "cell_type": "code",
   "execution_count": 2,
   "id": "6e5f221c",
   "metadata": {},
   "outputs": [
    {
     "name": "stdout",
     "output_type": "stream",
     "text": [
      "\n",
      "🔧 Tuning Decision Tree...\n",
      "\n",
      "🔧 Tuning Random Forest...\n",
      "\n",
      "🔧 Tuning Gradient Boosting...\n",
      "\n",
      "🔧 Tuning AdaBoost...\n",
      "\n",
      "📊 Final Comparison:\n",
      "            Model                                                                                                Best Params       MAE      RMSE     R²\n",
      "    Decision Tree                                         {'max_depth': None, 'min_samples_leaf': 1, 'min_samples_split': 2}   2018.50  20993.83 0.9997\n",
      "    Random Forest                    {'max_depth': None, 'min_samples_leaf': 1, 'min_samples_split': 2, 'n_estimators': 200}   9356.44  34064.29 0.9992\n",
      "Gradient Boosting {'learning_rate': 0.1, 'max_depth': 5, 'min_samples_leaf': 1, 'min_samples_split': 2, 'n_estimators': 200}  61553.80  94139.92 0.9940\n",
      "         AdaBoost                                                                {'learning_rate': 0.1, 'n_estimators': 100} 295899.95 512076.50 0.8224\n"
     ]
    }
   ],
   "source": [
    "import pandas as pd\n",
    "import numpy as np\n",
    "from sklearn.model_selection import train_test_split, GridSearchCV\n",
    "from sklearn.tree import DecisionTreeRegressor\n",
    "from sklearn.ensemble import RandomForestRegressor, GradientBoostingRegressor, AdaBoostRegressor\n",
    "from sklearn.metrics import mean_absolute_error, mean_squared_error, r2_score\n",
    "\n",
    "# Load data\n",
    "df = pd.read_csv('encoded_car_data.csv')\n",
    "X = df.drop('Car_Price', axis=1)\n",
    "y = df['Car_Price']\n",
    "X_train, X_test, y_train, y_test = train_test_split(X, y, test_size=0.2, random_state=42)\n",
    "\n",
    "# Define models and hyperparameters\n",
    "model_configs = {\n",
    "    'Decision Tree': {\n",
    "        'model': DecisionTreeRegressor(random_state=42),\n",
    "        'params': {\n",
    "            'max_depth': [5, 10, 20, None],\n",
    "            'min_samples_split': [2, 5, 10],\n",
    "            'min_samples_leaf': [1, 2, 4]\n",
    "        }\n",
    "    },\n",
    "    'Random Forest': {\n",
    "        'model': RandomForestRegressor(random_state=42),\n",
    "        'params': {\n",
    "            'n_estimators': [100, 200],\n",
    "            'max_depth': [10, 20, None],\n",
    "            'min_samples_split': [2, 5],\n",
    "            'min_samples_leaf': [1, 2]\n",
    "        }\n",
    "    },\n",
    "    'Gradient Boosting': {\n",
    "        'model': GradientBoostingRegressor(random_state=42),\n",
    "        'params': {\n",
    "            'n_estimators': [100, 200],\n",
    "            'learning_rate': [0.05, 0.1],\n",
    "            'max_depth': [3, 5],\n",
    "            'min_samples_split': [2, 5],\n",
    "            'min_samples_leaf': [1, 2]\n",
    "        }\n",
    "    },\n",
    "    'AdaBoost': {\n",
    "        'model': AdaBoostRegressor(random_state=42),\n",
    "        'params': {\n",
    "            'n_estimators': [50, 100, 200],\n",
    "            'learning_rate': [0.05, 0.1, 1.0]\n",
    "        }\n",
    "    }\n",
    "}\n",
    "\n",
    "# Store results\n",
    "results = []\n",
    "\n",
    "# Loop over models\n",
    "for name, config in model_configs.items():\n",
    "    print(f\"\\n🔧 Tuning {name}...\")\n",
    "    grid = GridSearchCV(\n",
    "        config['model'],\n",
    "        config['params'],\n",
    "        cv=3,\n",
    "        scoring='neg_mean_absolute_error',\n",
    "        n_jobs=-1,\n",
    "        verbose=0\n",
    "    )\n",
    "    grid.fit(X_train, y_train)\n",
    "    best_model = grid.best_estimator_\n",
    "    y_pred = best_model.predict(X_test)\n",
    "\n",
    "    mae = mean_absolute_error(y_test, y_pred)\n",
    "    rmse = np.sqrt(mean_squared_error(y_test, y_pred))\n",
    "    r2 = r2_score(y_test, y_pred)\n",
    "\n",
    "    results.append({\n",
    "        'Model': name,\n",
    "        'Best Params': grid.best_params_,\n",
    "        'MAE': round(mae, 2),\n",
    "        'RMSE': round(rmse, 2),\n",
    "        'R²': round(r2, 4)\n",
    "    })\n",
    "\n",
    "# Display results\n",
    "results_df = pd.DataFrame(results).sort_values(by='R²', ascending=False)\n",
    "pd.set_option('display.max_colwidth', None)\n",
    "print(\"\\n📊 Final Comparison:\")\n",
    "print(results_df.to_string(index=False))\n"
   ]
  },
  {
   "cell_type": "code",
   "execution_count": 3,
   "id": "786cbcab",
   "metadata": {},
   "outputs": [],
   "source": [
    "import pickle\n",
    "\n",
    "def save_model(model, filename='best_model.pkl'):\n",
    "    with open(filename, 'wb') as file:\n",
    "        pickle.dump(model, file)\n",
    "    print(f\"✅ Model saved as '{filename}'\")\n"
   ]
  },
  {
   "cell_type": "code",
   "execution_count": 4,
   "id": "48e5a60b",
   "metadata": {},
   "outputs": [
    {
     "name": "stdout",
     "output_type": "stream",
     "text": [
      "✅ Model saved as 'decision_tree_car_price.pkl'\n"
     ]
    }
   ],
   "source": [
    "# Assuming best_model = grid.best_estimator_ from your Random Forest\n",
    "save_model(best_model, 'decision_tree_car_price.pkl')"
   ]
  }
 ],
 "metadata": {
  "kernelspec": {
   "display_name": "env",
   "language": "python",
   "name": "python3"
  },
  "language_info": {
   "codemirror_mode": {
    "name": "ipython",
    "version": 3
   },
   "file_extension": ".py",
   "mimetype": "text/x-python",
   "name": "python",
   "nbconvert_exporter": "python",
   "pygments_lexer": "ipython3",
   "version": "3.12.10"
  }
 },
 "nbformat": 4,
 "nbformat_minor": 5
}
